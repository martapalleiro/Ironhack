{
 "cells": [
  {
   "cell_type": "markdown",
   "metadata": {},
   "source": [
    "### Numpy code along\n",
    "Numpy (short for Numerical Python) is used for numeric computing and includes support for multi-dimensional arrays and matrices along with a variety of mathematical functions to apply to them. \n",
    "\n",
    "The basic data structures in Numpy are arrays, which can be used to represent tabular data. You can think of arrays as lists of lists, where all the elements of a list are of the same type (typically numeric since the reason you use Numpy is to do numeric computing). A matrix is just a two-dimensional array.\n",
    "\n",
    "The size of an array is the total number of elements in every list. The shape of an array is the size of the array along each dimension (group, subgroup, rows, columns)"
   ]
  },
  {
   "cell_type": "code",
   "execution_count": 1,
   "metadata": {},
   "outputs": [],
   "source": [
    "import numpy as np"
   ]
  },
  {
   "cell_type": "code",
   "execution_count": 2,
   "metadata": {},
   "outputs": [],
   "source": [
    "a = np.random.random((6,3))"
   ]
  },
  {
   "cell_type": "code",
   "execution_count": 3,
   "metadata": {},
   "outputs": [
    {
     "name": "stdout",
     "output_type": "stream",
     "text": [
      "[[0.25863261 0.29037444 0.23045113]\n",
      " [0.6215434  0.88239921 0.08838296]\n",
      " [0.38117844 0.61508489 0.55940369]\n",
      " [0.73903451 0.02268816 0.42810847]\n",
      " [0.66516596 0.14152668 0.67917047]\n",
      " [0.4537806  0.43918452 0.03528909]]\n"
     ]
    }
   ],
   "source": [
    "print(a)"
   ]
  },
  {
   "cell_type": "code",
   "execution_count": 4,
   "metadata": {},
   "outputs": [
    {
     "data": {
      "text/plain": [
       "(6, 3)"
      ]
     },
     "execution_count": 4,
     "metadata": {},
     "output_type": "execute_result"
    }
   ],
   "source": [
    "a.shape"
   ]
  },
  {
   "cell_type": "code",
   "execution_count": 5,
   "metadata": {
    "scrolled": true
   },
   "outputs": [
    {
     "data": {
      "text/plain": [
       "18"
      ]
     },
     "execution_count": 5,
     "metadata": {},
     "output_type": "execute_result"
    }
   ],
   "source": [
    "a.size"
   ]
  },
  {
   "cell_type": "markdown",
   "metadata": {},
   "source": [
    "#### 3-D arrays\n",
    "It will create an array with 3 groups of 4x5 matrices (groups, rows, columns)"
   ]
  },
  {
   "cell_type": "code",
   "execution_count": 6,
   "metadata": {},
   "outputs": [
    {
     "name": "stdout",
     "output_type": "stream",
     "text": [
      "[[[0.89836095 0.29609629 0.80292778 0.29961626 0.17414411]\n",
      "  [0.62615406 0.76274847 0.40216247 0.84071922 0.60798756]\n",
      "  [0.32435899 0.64839192 0.09046267 0.49975624 0.26851702]\n",
      "  [0.04010463 0.10691695 0.87779608 0.15565992 0.0731709 ]]\n",
      "\n",
      " [[0.98540219 0.91196259 0.52092403 0.11833242 0.94549908]\n",
      "  [0.40834637 0.22072044 0.63192318 0.26842969 0.4405589 ]\n",
      "  [0.33972738 0.58248482 0.31878545 0.04343898 0.69064977]\n",
      "  [0.81670972 0.16207972 0.66557102 0.05874646 0.96241985]]\n",
      "\n",
      " [[0.35176515 0.04158829 0.07035751 0.9140906  0.39938913]\n",
      "  [0.62886176 0.70798876 0.07269246 0.67608459 0.98425197]\n",
      "  [0.7588117  0.97790797 0.79283338 0.05645006 0.47725166]\n",
      "  [0.91680407 0.44627754 0.1927636  0.91201192 0.92346065]]]\n"
     ]
    }
   ],
   "source": [
    "f = np.random.random((3,4,5))\n",
    "print(f)"
   ]
  },
  {
   "cell_type": "markdown",
   "metadata": {},
   "source": [
    "__4-D arrays__\n",
    "It will create 2 groups, of 3 4x3 matrices (groups, sub-groups, rows, columns)"
   ]
  },
  {
   "cell_type": "code",
   "execution_count": 7,
   "metadata": {},
   "outputs": [
    {
     "name": "stdout",
     "output_type": "stream",
     "text": [
      "[[[[0.64477859 0.89641884 0.86355138 0.89418741 0.7422256 ]\n",
      "   [0.05897595 0.53376983 0.67591669 0.81828168 0.57045207]\n",
      "   [0.34571598 0.96314    0.38039216 0.50406145 0.12681685]\n",
      "   [0.16103219 0.17502662 0.75465242 0.18050968 0.9861452 ]]\n",
      "\n",
      "  [[0.25719552 0.52250463 0.85864575 0.62885899 0.93010446]\n",
      "   [0.64419896 0.37639589 0.67292751 0.28252162 0.06294175]\n",
      "   [0.66290859 0.01828023 0.47456788 0.09996702 0.44227327]\n",
      "   [0.31678042 0.32316412 0.32628916 0.22990484 0.47024849]]\n",
      "\n",
      "  [[0.60945809 0.85148652 0.24734991 0.852702   0.91857969]\n",
      "   [0.61141536 0.2614762  0.6357038  0.74227369 0.09065509]\n",
      "   [0.48025622 0.27108494 0.13860044 0.20101975 0.92120797]\n",
      "   [0.47618347 0.01892212 0.74914416 0.18879969 0.99420585]]]\n",
      "\n",
      "\n",
      " [[[0.06329551 0.84831754 0.45562369 0.38706537 0.92215855]\n",
      "   [0.7766793  0.61969148 0.23911715 0.82167839 0.63246147]\n",
      "   [0.17148559 0.75411191 0.55116073 0.38474395 0.72992052]\n",
      "   [0.40186536 0.18979982 0.9098072  0.55035599 0.0235737 ]]\n",
      "\n",
      "  [[0.17345782 0.38922583 0.30611188 0.55783612 0.95124083]\n",
      "   [0.08392288 0.10899107 0.07905734 0.42050465 0.18454751]\n",
      "   [0.11067378 0.46665996 0.69332353 0.37185337 0.52857125]\n",
      "   [0.09874487 0.83603906 0.04644645 0.20674344 0.04713302]]\n",
      "\n",
      "  [[0.02736594 0.04864029 0.49663321 0.70479855 0.72172127]\n",
      "   [0.92823891 0.53559844 0.02748648 0.18031604 0.97720445]\n",
      "   [0.88198016 0.9215692  0.11495565 0.51634707 0.20026525]\n",
      "   [0.84508221 0.67058479 0.13232437 0.24242018 0.28082092]]]]\n"
     ]
    }
   ],
   "source": [
    "g = np.random.random((2,3,4,5))\n",
    "print(g)"
   ]
  },
  {
   "cell_type": "markdown",
   "metadata": {},
   "source": [
    "### Other ways to create arrays\n",
    "\n",
    "#### List to array\n",
    "\n",
    "This works the same way whether you have a list of lists, a list of tuples, a tuple of lists, or a tuple of tuples."
   ]
  },
  {
   "cell_type": "code",
   "execution_count": 8,
   "metadata": {},
   "outputs": [
    {
     "name": "stdout",
     "output_type": "stream",
     "text": [
      "[[1 2 3]\n",
      " [4 5 6]\n",
      " [7 8 9]]\n"
     ]
    }
   ],
   "source": [
    "lst = [[1,2,3],[4,5,6],[7,8,9]]\n",
    "e = np.array(lst) # Formula to convert list of lists, to array\n",
    "print(e)"
   ]
  },
  {
   "cell_type": "markdown",
   "metadata": {},
   "source": [
    "#### Constant arrays"
   ]
  },
  {
   "cell_type": "code",
   "execution_count": 9,
   "metadata": {},
   "outputs": [
    {
     "name": "stdout",
     "output_type": "stream",
     "text": [
      "[[0. 0.]\n",
      " [0. 0.]]\n",
      "[[1. 1.]]\n",
      "[[7 7]\n",
      " [7 7]\n",
      " [7 7]]\n"
     ]
    }
   ],
   "source": [
    "b = np.zeros((2,2))  # Create an array of all zeros\n",
    "print(b)\n",
    "\n",
    "c = np.ones((1,2))   # Create an array of all ones\n",
    "print(c)\n",
    "\n",
    "d = np.full((3,2), 7) # Create a constant array: np.full((rows,colums), number)\n",
    "print(d)"
   ]
  },
  {
   "cell_type": "markdown",
   "metadata": {},
   "source": [
    "#### Random values:"
   ]
  },
  {
   "cell_type": "code",
   "execution_count": 10,
   "metadata": {},
   "outputs": [
    {
     "name": "stdout",
     "output_type": "stream",
     "text": [
      "[[0.97848268 0.4224495 ]\n",
      " [0.87830187 0.64038928]]\n"
     ]
    }
   ],
   "source": [
    "e = np.random.random((2,2)) # Create an array filled with random values\n",
    "print(e)"
   ]
  },
  {
   "cell_type": "markdown",
   "metadata": {},
   "source": [
    "### Array indexing\n",
    "[row index, column index]\n",
    "\n",
    "- If we want the whole row but only one or some columns, [:,columns]"
   ]
  },
  {
   "cell_type": "code",
   "execution_count": 11,
   "metadata": {},
   "outputs": [
    {
     "data": {
      "text/plain": [
       "array([0.29037444, 0.88239921, 0.61508489, 0.02268816, 0.14152668,\n",
       "       0.43918452])"
      ]
     },
     "execution_count": 11,
     "metadata": {},
     "output_type": "execute_result"
    }
   ],
   "source": [
    "a[0] #First row of matrix a\n",
    "a[:,1] #All rows of the second column"
   ]
  },
  {
   "cell_type": "code",
   "execution_count": 12,
   "metadata": {},
   "outputs": [
    {
     "data": {
      "text/plain": [
       "0.6791704711675347"
      ]
     },
     "execution_count": 12,
     "metadata": {},
     "output_type": "execute_result"
    }
   ],
   "source": [
    "a[4,2] # Value in the fifth row and third column of matrix a [row index, column index]"
   ]
  },
  {
   "cell_type": "code",
   "execution_count": 13,
   "metadata": {},
   "outputs": [
    {
     "data": {
      "text/plain": [
       "array([0.23045113, 0.08838296])"
      ]
     },
     "execution_count": 13,
     "metadata": {},
     "output_type": "execute_result"
    }
   ],
   "source": [
    "a[0:2,2] # First and second rows, third column"
   ]
  },
  {
   "cell_type": "code",
   "execution_count": 14,
   "metadata": {},
   "outputs": [
    {
     "name": "stdout",
     "output_type": "stream",
     "text": [
      "[[0.25863261 0.29037444 0.23045113]\n",
      " [0.6215434  0.88239921 0.08838296]\n",
      " [0.38117844 0.61508489 0.55940369]\n",
      " [0.73903451 0.02268816 0.42810847]\n",
      " [0.66516596 0.14152668 0.67917047]\n",
      " [0.4537806  0.43918452 0.03528909]]\n"
     ]
    }
   ],
   "source": [
    "print(a)"
   ]
  },
  {
   "cell_type": "markdown",
   "metadata": {},
   "source": [
    "__Array indexing with 3+ dimensional matrices__"
   ]
  },
  {
   "cell_type": "code",
   "execution_count": 41,
   "metadata": {},
   "outputs": [
    {
     "name": "stdout",
     "output_type": "stream",
     "text": [
      "[[[0.64477859 0.89641884 0.86355138 0.89418741 0.7422256 ]\n",
      "  [0.05897595 0.53376983 0.67591669 0.81828168 0.57045207]\n",
      "  [0.34571598 0.96314    0.38039216 0.50406145 0.12681685]\n",
      "  [0.16103219 0.17502662 0.75465242 0.18050968 0.9861452 ]]\n",
      "\n",
      " [[0.25719552 0.52250463 0.85864575 0.62885899 0.93010446]\n",
      "  [0.64419896 0.37639589 0.67292751 0.28252162 0.06294175]\n",
      "  [0.66290859 0.01828023 0.47456788 0.09996702 0.44227327]\n",
      "  [0.31678042 0.32316412 0.32628916 0.22990484 0.47024849]]\n",
      "\n",
      " [[0.60945809 0.85148652 0.24734991 0.852702   0.91857969]\n",
      "  [0.61141536 0.2614762  0.6357038  0.74227369 0.09065509]\n",
      "  [0.48025622 0.27108494 0.13860044 0.20101975 0.92120797]\n",
      "  [0.47618347 0.01892212 0.74914416 0.18879969 0.99420585]]]\n"
     ]
    }
   ],
   "source": [
    "print(g[0]) # First group of array g"
   ]
  },
  {
   "cell_type": "code",
   "execution_count": 43,
   "metadata": {},
   "outputs": [
    {
     "name": "stdout",
     "output_type": "stream",
     "text": [
      "[[0.25719552 0.52250463 0.85864575 0.62885899 0.93010446]\n",
      " [0.64419896 0.37639589 0.67292751 0.28252162 0.06294175]\n",
      " [0.66290859 0.01828023 0.47456788 0.09996702 0.44227327]\n",
      " [0.31678042 0.32316412 0.32628916 0.22990484 0.47024849]]\n"
     ]
    }
   ],
   "source": [
    "print(g[0,1]) # Second subgroup of the first group"
   ]
  },
  {
   "cell_type": "code",
   "execution_count": 95,
   "metadata": {},
   "outputs": [
    {
     "name": "stdout",
     "output_type": "stream",
     "text": [
      "[0.66290859 0.01828023 0.47456788 0.09996702 0.44227327]\n"
     ]
    }
   ],
   "source": [
    "print(g[0,1,2]) # Third row of the second subgroup of the first group"
   ]
  },
  {
   "cell_type": "code",
   "execution_count": 97,
   "metadata": {},
   "outputs": [
    {
     "name": "stdout",
     "output_type": "stream",
     "text": [
      "[0.62885899 0.28252162 0.09996702 0.22990484]\n"
     ]
    }
   ],
   "source": [
    "print(g[0,1,:,3]) # Fourth column of the second subgroup of the first group"
   ]
  },
  {
   "cell_type": "code",
   "execution_count": 98,
   "metadata": {},
   "outputs": [
    {
     "name": "stdout",
     "output_type": "stream",
     "text": [
      "0.09996701609633529\n"
     ]
    }
   ],
   "source": [
    "print(g[0,1,2,3]) # Value in the third row and fourth column of the second subgroup of the first group"
   ]
  },
  {
   "cell_type": "markdown",
   "metadata": {},
   "source": [
    "#### Modifying a slice will modify the array"
   ]
  },
  {
   "cell_type": "code",
   "execution_count": 16,
   "metadata": {},
   "outputs": [
    {
     "data": {
      "text/plain": [
       "0.25863261343053734"
      ]
     },
     "execution_count": 16,
     "metadata": {},
     "output_type": "execute_result"
    }
   ],
   "source": [
    "a[0,0]"
   ]
  },
  {
   "cell_type": "code",
   "execution_count": 17,
   "metadata": {},
   "outputs": [],
   "source": [
    "a[0,0] = 0.5"
   ]
  },
  {
   "cell_type": "code",
   "execution_count": 18,
   "metadata": {},
   "outputs": [
    {
     "name": "stdout",
     "output_type": "stream",
     "text": [
      "[[0.5        0.29037444 0.23045113]\n",
      " [0.6215434  0.88239921 0.08838296]\n",
      " [0.38117844 0.61508489 0.55940369]\n",
      " [0.73903451 0.02268816 0.42810847]\n",
      " [0.66516596 0.14152668 0.67917047]\n",
      " [0.4537806  0.43918452 0.03528909]]\n"
     ]
    }
   ],
   "source": [
    "print(a)"
   ]
  },
  {
   "cell_type": "markdown",
   "metadata": {},
   "source": [
    "#### Boolean indexing"
   ]
  },
  {
   "cell_type": "code",
   "execution_count": 52,
   "metadata": {},
   "outputs": [
    {
     "name": "stdout",
     "output_type": "stream",
     "text": [
      "[[False False False]\n",
      " [False  True False]\n",
      " [False False False]\n",
      " [ True False False]\n",
      " [False False False]\n",
      " [False False False]]\n"
     ]
    }
   ],
   "source": [
    "bool_idx = (a > 0.7)\n",
    "print(bool_idx)"
   ]
  },
  {
   "cell_type": "code",
   "execution_count": 53,
   "metadata": {},
   "outputs": [
    {
     "name": "stdout",
     "output_type": "stream",
     "text": [
      "[0.88239921 0.73903451]\n",
      "[0.88239921 0.73903451]\n"
     ]
    }
   ],
   "source": [
    "print(a[bool_idx])\n",
    "print(a[a > 0.7]) # in a single expression"
   ]
  },
  {
   "cell_type": "markdown",
   "metadata": {},
   "source": [
    "\n",
    "### Operations:\n",
    "\n",
    "- np.sum\n",
    "\n",
    "- np.mean\n",
    "\n",
    "- Structure: np.sum(array[index], axis, dtype)\n",
    "    - Axis: axis or axes along which the means are computed. The default is to compute the mean of the flattened array. \n",
    "        - Axis 0: Move down the rows (so you will compute the sum/mean of each column)\n",
    "        - Axis 1: Move horizontally across the columns (so you will compute the sum/mean of each row)\n",
    "    - Dtype: Type to use in computing the result. For integer inputs, the default is float64; for floating point inputs, it is the same as the input dtype.\n",
    "    \n",
    "    *axis and dtype are optional to input\n",
    "\n",
    "\n",
    "    \n"
   ]
  },
  {
   "cell_type": "markdown",
   "metadata": {},
   "source": [
    "Lists do not behave the same way: sum means concatenation"
   ]
  },
  {
   "cell_type": "code",
   "execution_count": 56,
   "metadata": {},
   "outputs": [
    {
     "data": {
      "text/plain": [
       "[1, 2, 3, 4, 5, 6]"
      ]
     },
     "execution_count": 56,
     "metadata": {},
     "output_type": "execute_result"
    }
   ],
   "source": [
    "[1,2,3] + [4,5,6]"
   ]
  },
  {
   "cell_type": "code",
   "execution_count": 99,
   "metadata": {},
   "outputs": [
    {
     "name": "stdout",
     "output_type": "stream",
     "text": [
      "x \n",
      " [[1 2]\n",
      " [3 4]]\n",
      "y \n",
      " [[5 6]\n",
      " [7 8]]\n"
     ]
    }
   ],
   "source": [
    "x = np.array([[1,2],[3,4]])\n",
    "y = np.array([[5,6],[7,8]])\n",
    "print(\"x\", \"\\n\", x)\n",
    "print(\"y\", \"\\n\", y) "
   ]
  },
  {
   "cell_type": "code",
   "execution_count": 100,
   "metadata": {},
   "outputs": [
    {
     "name": "stdout",
     "output_type": "stream",
     "text": [
      "[[ 6  8]\n",
      " [10 12]]\n"
     ]
    }
   ],
   "source": [
    "print(np.add(x,y)) # Sum of arrays x and y"
   ]
  },
  {
   "cell_type": "code",
   "execution_count": 92,
   "metadata": {},
   "outputs": [
    {
     "name": "stdout",
     "output_type": "stream",
     "text": [
      "array a \n",
      " [[0.5        0.29037444 0.23045113]\n",
      " [0.6215434  0.88239921 0.08838296]\n",
      " [0.38117844 0.61508489 0.55940369]\n",
      " [0.73903451 0.02268816 0.42810847]\n",
      " [0.66516596 0.14152668 0.67917047]\n",
      " [0.4537806  0.43918452 0.03528909]] \n",
      "\n",
      "array f \n",
      " [[[0.89836095 0.29609629 0.80292778 0.29961626 0.17414411]\n",
      "  [0.62615406 0.76274847 0.40216247 0.84071922 0.60798756]\n",
      "  [0.32435899 0.64839192 0.09046267 0.49975624 0.26851702]\n",
      "  [0.04010463 0.10691695 0.87779608 0.15565992 0.0731709 ]]\n",
      "\n",
      " [[0.98540219 0.91196259 0.52092403 0.11833242 0.94549908]\n",
      "  [0.40834637 0.22072044 0.63192318 0.26842969 0.4405589 ]\n",
      "  [0.33972738 0.58248482 0.31878545 0.04343898 0.69064977]\n",
      "  [0.81670972 0.16207972 0.66557102 0.05874646 0.96241985]]\n",
      "\n",
      " [[0.35176515 0.04158829 0.07035751 0.9140906  0.39938913]\n",
      "  [0.62886176 0.70798876 0.07269246 0.67608459 0.98425197]\n",
      "  [0.7588117  0.97790797 0.79283338 0.05645006 0.47725166]\n",
      "  [0.91680407 0.44627754 0.1927636  0.91201192 0.92346065]]] \n",
      "\n",
      "Mean of each column in matrix a\n",
      "[0.56011715 0.39854298 0.33680097]\n",
      "\n",
      " Mean of each row in matrix a\n",
      "[0.34027519 0.53077519 0.51855567 0.39661038 0.4952877  0.30941807]\n",
      "\n",
      " Mean of all the elements in the first two groups of array f\n",
      "0.4722191135022369\n"
     ]
    }
   ],
   "source": [
    "print(\"array a \\n\", a, \"\\n\")\n",
    "print(\"array f \\n\", f, \"\\n\")\n",
    "\n",
    "# Mean of each column in matrix a\n",
    "print(\"Mean of each column in matrix a\")\n",
    "print(np.mean(a, axis=0))\n",
    "  \n",
    "# Mean of each row in matrix a\n",
    "print(\"\\n Mean of each row in matrix a\")\n",
    "print(np.mean(a, axis=1))\n",
    "\n",
    "# Mean of all the elements in the first two groups of array f\n",
    "print(\"\\n Mean of all the elements in the first two groups of array f\")\n",
    "print(np.mean(f[:2]))"
   ]
  },
  {
   "cell_type": "markdown",
   "metadata": {},
   "source": [
    "### Transpose"
   ]
  },
  {
   "cell_type": "code",
   "execution_count": 93,
   "metadata": {},
   "outputs": [
    {
     "name": "stdout",
     "output_type": "stream",
     "text": [
      "[[1 2]\n",
      " [3 4]]\n"
     ]
    }
   ],
   "source": [
    "print(x)"
   ]
  },
  {
   "cell_type": "code",
   "execution_count": 94,
   "metadata": {},
   "outputs": [
    {
     "name": "stdout",
     "output_type": "stream",
     "text": [
      "[[1 3]\n",
      " [2 4]]\n"
     ]
    }
   ],
   "source": [
    "print(x.T)"
   ]
  },
  {
   "cell_type": "markdown",
   "metadata": {},
   "source": [
    "### Broadcasting\n",
    "\n",
    "np.tile"
   ]
  },
  {
   "cell_type": "code",
   "execution_count": 103,
   "metadata": {},
   "outputs": [
    {
     "name": "stdout",
     "output_type": "stream",
     "text": [
      "array x \n",
      " [[ 1  2  3]\n",
      " [ 4  5  6]\n",
      " [ 7  8  9]\n",
      " [10 11 12]]\n",
      "array v \n",
      " [1 0 1]\n",
      "[[ 2  2  4]\n",
      " [ 5  5  7]\n",
      " [ 8  8 10]\n",
      " [11 11 13]]\n"
     ]
    }
   ],
   "source": [
    "# We will add the vector v to each row of the matrix x, storing the result in the matrix y\n",
    "\n",
    "x = np.array([[1,2,3], [4,5,6], [7,8,9], [10, 11, 12]])\n",
    "print(\"array x \\n\", x)\n",
    "\n",
    "v = np.array([1, 0, 1])\n",
    "print(\"array v \\n\", v)\n",
    "\n",
    "y = np.empty_like(x)   # Create an empty matrix with the same shape as x\n",
    "\n",
    "# Add the vector v to each row of the matrix x with an explicit loop\n",
    "for i in range(4):\n",
    "    y[i, :] = x[i, :] + v\n",
    "\n",
    "print(y)"
   ]
  },
  {
   "cell_type": "markdown",
   "metadata": {},
   "source": [
    "This works; however when the matrix x is very large, computing an explicit loop in Python could be slow. Note that adding the vector v to each row of the matrix x is equivalent to forming a matrix vv by stacking multiple copies of v vertically, then performing elementwise summation of x and vv. We could implement this approach like this:"
   ]
  },
  {
   "cell_type": "code",
   "execution_count": 105,
   "metadata": {},
   "outputs": [
    {
     "name": "stdout",
     "output_type": "stream",
     "text": [
      "[[1 0 1]\n",
      " [1 0 1]\n",
      " [1 0 1]\n",
      " [1 0 1]]\n"
     ]
    }
   ],
   "source": [
    "vv = np.tile(v, (4, 1))  # Stack 4 copies of v on top of each other\n",
    "print(vv)                # Prints \"[[1 0 1]\n",
    "                         #          [1 0 1]\n",
    "                         #          [1 0 1]\n",
    "                         #          [1 0 1]]\""
   ]
  },
  {
   "cell_type": "code",
   "execution_count": 30,
   "metadata": {},
   "outputs": [
    {
     "name": "stdout",
     "output_type": "stream",
     "text": [
      "[[ 2  2  4]\n",
      " [ 5  5  7]\n",
      " [ 8  8 10]\n",
      " [11 11 13]]\n"
     ]
    }
   ],
   "source": [
    "y = x + vv  # Add x and vv elementwise\n",
    "print(y)"
   ]
  },
  {
   "cell_type": "code",
   "execution_count": 31,
   "metadata": {
    "scrolled": true
   },
   "outputs": [
    {
     "name": "stdout",
     "output_type": "stream",
     "text": [
      "[[ 2  2  4]\n",
      " [ 5  5  7]\n",
      " [ 8  8 10]\n",
      " [11 11 13]]\n"
     ]
    }
   ],
   "source": [
    "y = x + v  # Add v to each row of x using broadcasting\n",
    "print(y)"
   ]
  },
  {
   "cell_type": "markdown",
   "metadata": {},
   "source": [
    "[how broadcasting works](https://numpy.org/doc/stable/user/basics.broadcasting.html)"
   ]
  },
  {
   "cell_type": "markdown",
   "metadata": {},
   "source": [
    "Some applications of bradcasting:"
   ]
  },
  {
   "cell_type": "code",
   "execution_count": 32,
   "metadata": {},
   "outputs": [
    {
     "name": "stdout",
     "output_type": "stream",
     "text": [
      "[[ 4  5]\n",
      " [ 8 10]\n",
      " [12 15]]\n"
     ]
    }
   ],
   "source": [
    "# Compute outer product of vectors\n",
    "v = np.array([1,2,3])  # v has shape (3,)\n",
    "w = np.array([4,5])    # w has shape (2,)\n",
    "# To compute an outer product, we first reshape v to be a column\n",
    "# vector of shape (3, 1); we can then broadcast it against w to yield\n",
    "# an output of shape (3, 2), which is the outer product of v and w:\n",
    "\n",
    "print(np.reshape(v, (3, 1)) * w)"
   ]
  },
  {
   "cell_type": "code",
   "execution_count": 33,
   "metadata": {},
   "outputs": [
    {
     "name": "stdout",
     "output_type": "stream",
     "text": [
      "[[2 4 6]\n",
      " [5 7 9]]\n"
     ]
    }
   ],
   "source": [
    "# Add a vector to each row of a matrix\n",
    "x = np.array([[1,2,3], [4,5,6]])\n",
    "# x has shape (2, 3) and v has shape (3,) so they broadcast to (2, 3),\n",
    "# giving the following matrix:\n",
    "\n",
    "print(x + v)"
   ]
  },
  {
   "cell_type": "code",
   "execution_count": 34,
   "metadata": {},
   "outputs": [
    {
     "name": "stdout",
     "output_type": "stream",
     "text": [
      "[[ 5  6  7]\n",
      " [ 9 10 11]]\n"
     ]
    }
   ],
   "source": [
    "# Add a vector to each column of a matrix\n",
    "# x has shape (2, 3) and w has shape (2,).\n",
    "# If we transpose x then it has shape (3, 2) and can be broadcast\n",
    "# against w to yield a result of shape (3, 2); transposing this result\n",
    "# yields the final result of shape (2, 3) which is the matrix x with\n",
    "# the vector w added to each column. Gives the following matrix:\n",
    "\n",
    "print((x.T + w).T)"
   ]
  },
  {
   "cell_type": "code",
   "execution_count": 35,
   "metadata": {
    "scrolled": true
   },
   "outputs": [
    {
     "name": "stdout",
     "output_type": "stream",
     "text": [
      "x \n",
      " 1.0\n",
      "y \n",
      " 1.0\n"
     ]
    }
   ],
   "source": [
    "x = c[0,0]\n",
    "\n",
    "print(\"x\", \"\\n\", x)\n",
    "\n",
    "y = c[0,1]\n",
    "print(\"y\", \"\\n\", y)"
   ]
  },
  {
   "cell_type": "code",
   "execution_count": 36,
   "metadata": {},
   "outputs": [
    {
     "name": "stdout",
     "output_type": "stream",
     "text": [
      "2.0\n"
     ]
    }
   ],
   "source": [
    "# Add elements of x and y together\n",
    "print(np.add(x, y))"
   ]
  },
  {
   "cell_type": "code",
   "execution_count": 37,
   "metadata": {},
   "outputs": [
    {
     "name": "stdout",
     "output_type": "stream",
     "text": [
      "0.0\n"
     ]
    }
   ],
   "source": [
    "# Subtract elements of x from elements of y\n",
    "print(np.subtract(y, x))"
   ]
  },
  {
   "cell_type": "code",
   "execution_count": 38,
   "metadata": {},
   "outputs": [
    {
     "name": "stdout",
     "output_type": "stream",
     "text": [
      "1.0\n"
     ]
    }
   ],
   "source": [
    "# Multiply elements of x and y together\n",
    "print(np.multiply(x, y))"
   ]
  },
  {
   "cell_type": "code",
   "execution_count": 39,
   "metadata": {},
   "outputs": [
    {
     "name": "stdout",
     "output_type": "stream",
     "text": [
      "1.0\n"
     ]
    }
   ],
   "source": [
    "# Divide elements of y by elements of x\n",
    "print(np.divide(y, x))"
   ]
  }
 ],
 "metadata": {
  "kernelspec": {
   "display_name": "Python 3",
   "language": "python",
   "name": "python3"
  },
  "language_info": {
   "codemirror_mode": {
    "name": "ipython",
    "version": 3
   },
   "file_extension": ".py",
   "mimetype": "text/x-python",
   "name": "python",
   "nbconvert_exporter": "python",
   "pygments_lexer": "ipython3",
   "version": "3.8.2"
  }
 },
 "nbformat": 4,
 "nbformat_minor": 4
}
